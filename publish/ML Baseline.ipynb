{
 "cells": [
  {
   "cell_type": "markdown",
   "metadata": {},
   "source": [
    "# Imports"
   ]
  },
  {
   "cell_type": "code",
   "execution_count": 1,
   "metadata": {
    "ExecuteTime": {
     "end_time": "2021-03-23T16:04:39.059381Z",
     "start_time": "2021-03-23T16:04:37.827872Z"
    }
   },
   "outputs": [],
   "source": [
    "import pandas as pd\n",
    "import numpy as np\n",
    "import nltk\n",
    "from nltk import sent_tokenize, word_tokenize\n",
    "from nltk.corpus import stopwords\n",
    "from nltk import WordNetLemmatizer\n",
    "from collections import defaultdict\n",
    "from sklearn.metrics import precision_recall_fscore_support as score\n",
    "from sklearn.metrics import classification_report\n",
    "from sklearn.svm import SVC\n",
    "from sklearn.naive_bayes import GaussianNB\n",
    "from sklearn.feature_extraction.text import TfidfVectorizer\n",
    "from sklearn.model_selection import train_test_split\n",
    "from datetime import datetime, timedelta"
   ]
  },
  {
   "cell_type": "markdown",
   "metadata": {},
   "source": [
    "# Load Data"
   ]
  },
  {
   "cell_type": "code",
   "execution_count": 77,
   "metadata": {},
   "outputs": [],
   "source": [
    "train_X_original = pd.read_csv(\"../data/original_data_X_train.csv\")\n",
    "train_y_original = pd.read_csv(\"../data/original_data_y_train.csv\")\n",
    "augmented_data = pd.read_csv(\"../data/balanced_augmentation_dataset.csv\")\n",
    "X_test = pd.read_csv(\"../data/original_data_X_test.csv\")\n",
    "y_test = pd.read_csv(\"../data/original_data_y_test.csv\")\n",
    "\n",
    "augmented_data=augmented_data[[\"Reviews\", \"Useful?\"]]\n",
    "augmented_data.rename(columns={\"Reviews\":\"reviews\", \"Useful?\":\"Judgement\"}, inplace=True)\n",
    "X_train_augmented = pd.concat([train_X_original, augmented_data[[\"reviews\"]]], axis=0, ignore_index=True)\n",
    "y_train_augmented = pd.concat([train_y_original, augmented_data[[\"Judgement\"]]], axis=0, ignore_index=True)"
   ]
  },
  {
   "cell_type": "code",
   "execution_count": 102,
   "metadata": {},
   "outputs": [
    {
     "data": {
      "text/html": [
       "<div>\n",
       "<style scoped>\n",
       "    .dataframe tbody tr th:only-of-type {\n",
       "        vertical-align: middle;\n",
       "    }\n",
       "\n",
       "    .dataframe tbody tr th {\n",
       "        vertical-align: top;\n",
       "    }\n",
       "\n",
       "    .dataframe thead th {\n",
       "        text-align: right;\n",
       "    }\n",
       "</style>\n",
       "<table border=\"1\" class=\"dataframe\">\n",
       "  <thead>\n",
       "    <tr style=\"text-align: right;\">\n",
       "      <th></th>\n",
       "      <th>reviews</th>\n",
       "      <th>Judgement</th>\n",
       "    </tr>\n",
       "  </thead>\n",
       "  <tbody>\n",
       "    <tr>\n",
       "      <th>0</th>\n",
       "      <td>I give it 5 stars  it almost had everything I ...</td>\n",
       "      <td>1</td>\n",
       "    </tr>\n",
       "    <tr>\n",
       "      <th>1</th>\n",
       "      <td>I like this app and I segues to make stronger ...</td>\n",
       "      <td>1</td>\n",
       "    </tr>\n",
       "    <tr>\n",
       "      <th>2</th>\n",
       "      <td>So far does everything I want it to.     \\n</td>\n",
       "      <td>0</td>\n",
       "    </tr>\n",
       "    <tr>\n",
       "      <th>3</th>\n",
       "      <td>This app provides a lot of value for my phone ...</td>\n",
       "      <td>0</td>\n",
       "    </tr>\n",
       "    <tr>\n",
       "      <th>4</th>\n",
       "      <td>This is a wonderful app for figuring out what ...</td>\n",
       "      <td>0</td>\n",
       "    </tr>\n",
       "    <tr>\n",
       "      <th>...</th>\n",
       "      <td>...</td>\n",
       "      <td>...</td>\n",
       "    </tr>\n",
       "    <tr>\n",
       "      <th>1727</th>\n",
       "      <td>Nowhere close to Android version that I've bee...</td>\n",
       "      <td>1</td>\n",
       "    </tr>\n",
       "    <tr>\n",
       "      <th>1728</th>\n",
       "      <td>I was at one point happy with this map until N...</td>\n",
       "      <td>1</td>\n",
       "    </tr>\n",
       "    <tr>\n",
       "      <th>1729</th>\n",
       "      <td>I somewhat agree with one other review about t...</td>\n",
       "      <td>1</td>\n",
       "    </tr>\n",
       "    <tr>\n",
       "      <th>1730</th>\n",
       "      <td>Calibration does not work right on the update ...</td>\n",
       "      <td>1</td>\n",
       "    </tr>\n",
       "    <tr>\n",
       "      <th>1731</th>\n",
       "      <td>I love this app Please update so I can continu...</td>\n",
       "      <td>1</td>\n",
       "    </tr>\n",
       "  </tbody>\n",
       "</table>\n",
       "<p>1732 rows × 2 columns</p>\n",
       "</div>"
      ],
      "text/plain": [
       "                                                reviews  Judgement\n",
       "0     I give it 5 stars  it almost had everything I ...          1\n",
       "1     I like this app and I segues to make stronger ...          1\n",
       "2           So far does everything I want it to.     \\n          0\n",
       "3     This app provides a lot of value for my phone ...          0\n",
       "4     This is a wonderful app for figuring out what ...          0\n",
       "...                                                 ...        ...\n",
       "1727  Nowhere close to Android version that I've bee...          1\n",
       "1728  I was at one point happy with this map until N...          1\n",
       "1729  I somewhat agree with one other review about t...          1\n",
       "1730  Calibration does not work right on the update ...          1\n",
       "1731  I love this app Please update so I can continu...          1\n",
       "\n",
       "[1732 rows x 2 columns]"
      ]
     },
     "execution_count": 102,
     "metadata": {},
     "output_type": "execute_result"
    }
   ],
   "source": [
    "augmented_data"
   ]
  },
  {
   "cell_type": "markdown",
   "metadata": {},
   "source": [
    "# Utility functions"
   ]
  },
  {
   "cell_type": "code",
   "execution_count": 78,
   "metadata": {
    "ExecuteTime": {
     "end_time": "2021-03-23T16:04:45.424396Z",
     "start_time": "2021-03-23T16:04:45.405377Z"
    }
   },
   "outputs": [],
   "source": [
    "def clean_text(text, remove_stop = False):\n",
    "    tokens = word_tokenize(text)\n",
    "    # Remove the punctuations\n",
    "    tokens = [word for word in tokens if word.isalpha()]\n",
    "    # Lower the tokens\n",
    "    tokens = [word.lower() for word in tokens]\n",
    "    if remove_stop:\n",
    "        # Remove stopword\n",
    "        tokens = [word for word in tokens if not word in stopwords.words(\"english\")]\n",
    "    # Lemmatize\n",
    "    lemma = WordNetLemmatizer()\n",
    "    tokens = [lemma.lemmatize(word, pos = \"v\") for word in tokens]\n",
    "    tokens = [lemma.lemmatize(word, pos = \"n\") for word in tokens]\n",
    "    return tokens"
   ]
  },
  {
   "cell_type": "code",
   "execution_count": 79,
   "metadata": {
    "ExecuteTime": {
     "end_time": "2021-03-23T16:04:46.186214Z",
     "start_time": "2021-03-23T16:04:46.173202Z"
    }
   },
   "outputs": [],
   "source": [
    "def get_vector(total_doc):\n",
    "    text_corpus = []\n",
    "    tokens = defaultdict(int)\n",
    "    for doc in total_doc:\n",
    "        tk = clean_text(doc)\n",
    "        for t in tk:\n",
    "            tokens[t]+=1\n",
    "        text_corpus.append(tk)\n",
    "    text_vectors = []\n",
    "    token_count = len(tokens)\n",
    "    token_index = {}\n",
    "    idx = 0\n",
    "    for token in tokens:\n",
    "        token_index[token] = idx\n",
    "        idx+=1\n",
    "\n",
    "    for text in text_corpus:\n",
    "        tmp_vector = np.zeros(token_count)\n",
    "        for tok in text:\n",
    "            tmp_vector[token_index[tok]]=1\n",
    "        text_vectors.append(tmp_vector)\n",
    "    return text_vectors\n",
    "    "
   ]
  },
  {
   "cell_type": "markdown",
   "metadata": {},
   "source": [
    "# Models"
   ]
  },
  {
   "cell_type": "markdown",
   "metadata": {},
   "source": [
    "## Naive Bayes"
   ]
  },
  {
   "cell_type": "markdown",
   "metadata": {
    "ExecuteTime": {
     "end_time": "2021-03-02T00:17:00.068853Z",
     "start_time": "2021-03-02T00:17:00.061854Z"
    }
   },
   "source": [
    "### Task P1"
   ]
  },
  {
   "cell_type": "markdown",
   "metadata": {},
   "source": [
    "#### Before Augmentation"
   ]
  },
  {
   "cell_type": "code",
   "execution_count": 80,
   "metadata": {
    "ExecuteTime": {
     "end_time": "2021-03-23T16:04:49.877202Z",
     "start_time": "2021-03-23T16:04:48.267410Z"
    }
   },
   "outputs": [
    {
     "name": "stdout",
     "output_type": "stream",
     "text": [
      "Number of mislabeled points out of a total 200 points : 39, accuracy = 0.805000\n",
      "              precision    recall  f1-score   support\n",
      "\n",
      "           0       0.86      0.75      0.80       105\n",
      "           1       0.76      0.86      0.81        95\n",
      "\n",
      "    accuracy                           0.81       200\n",
      "   macro avg       0.81      0.81      0.80       200\n",
      "weighted avg       0.81      0.81      0.80       200\n",
      "\n",
      "Processing Time: 0.013959\n"
     ]
    },
    {
     "name": "stderr",
     "output_type": "stream",
     "text": [
      "D:\\Python 3.10\\lib\\site-packages\\sklearn\\utils\\validation.py:1111: DataConversionWarning: A column-vector y was passed when a 1d array was expected. Please change the shape of y to (n_samples, ), for example using ravel().\n",
      "  y = column_or_1d(y, warn=True)\n"
     ]
    }
   ],
   "source": [
    "# x = np.array(get_vector(golden_1['reviews']))\n",
    "# y = np.array(golden_1['Judgement'])\n",
    "\n",
    "# X_train, X_test, y_train, y_test = train_test_split(x, y, test_size=0.05, random_state=0)\n",
    "# X_train = np.array(get_vector(X_train['reviews']))\n",
    "# X_test = np.array(get_vector(X_test['reviews']))\n",
    "X = pd.concat([train_X_original, X_test])\n",
    "X = np.array(get_vector(X['reviews']))\n",
    "X_train = X[:train_X_original.shape[0]]\n",
    "X_test = X[-X_test.shape[0]:]\n",
    "learner = GaussianNB()\n",
    "learner = learner.fit(X_train, train_y_original)\n",
    "\n",
    "start_time = datetime.now()\n",
    "y_pred = learner.predict(X_test)\n",
    "acc =  (y_test[\"Judgement\"] == y_pred).sum()/X_test.shape[0]\n",
    "\n",
    "print(\"Number of mislabeled points out of a total %d points : %d, accuracy = %f\"% (X_test.shape[0], (y_test[\"Judgement\"]!= y_pred).sum(),acc))\n",
    "print(classification_report(y_test[\"Judgement\"], y_pred))\n",
    "print(f\"Processing Time: {(datetime.now() - start_time).total_seconds()}\")"
   ]
  },
  {
   "cell_type": "markdown",
   "metadata": {},
   "source": [
    "#### After Augmentation"
   ]
  },
  {
   "cell_type": "code",
   "execution_count": 83,
   "metadata": {},
   "outputs": [],
   "source": [
    "train_X_original = pd.read_csv(\"../data/original_data_X_train.csv\")\n",
    "train_y_original = pd.read_csv(\"../data/original_data_y_train.csv\")\n",
    "augmented_data = pd.read_csv(\"../data/balanced_augmentation_dataset.csv\")\n",
    "X_test = pd.read_csv(\"../data/original_data_X_test.csv\")\n",
    "y_test = pd.read_csv(\"../data/original_data_y_test.csv\")\n",
    "\n",
    "augmented_data=augmented_data[[\"Reviews\", \"Useful?\"]]\n",
    "augmented_data.rename(columns={\"Reviews\":\"reviews\", \"Useful?\":\"Judgement\"}, inplace=True)\n",
    "X_train_augmented = pd.concat([train_X_original, augmented_data[[\"reviews\"]]], axis=0, ignore_index=True)\n",
    "y_train_augmented = pd.concat([train_y_original, augmented_data[[\"Judgement\"]]], axis=0, ignore_index=True)"
   ]
  },
  {
   "cell_type": "code",
   "execution_count": 84,
   "metadata": {},
   "outputs": [
    {
     "name": "stderr",
     "output_type": "stream",
     "text": [
      "D:\\Python 3.10\\lib\\site-packages\\sklearn\\utils\\validation.py:1111: DataConversionWarning: A column-vector y was passed when a 1d array was expected. Please change the shape of y to (n_samples, ), for example using ravel().\n",
      "  y = column_or_1d(y, warn=True)\n"
     ]
    },
    {
     "name": "stdout",
     "output_type": "stream",
     "text": [
      "Number of mislabeled points out of a total 200 points : 58, accuracy = 0.710000\n",
      "              precision    recall  f1-score   support\n",
      "\n",
      "           0       0.67      0.90      0.76       105\n",
      "           1       0.81      0.51      0.62        95\n",
      "\n",
      "    accuracy                           0.71       200\n",
      "   macro avg       0.74      0.70      0.69       200\n",
      "weighted avg       0.74      0.71      0.70       200\n",
      "\n",
      "Processing Time: 0.024956\n"
     ]
    }
   ],
   "source": [
    "# x = np.array(get_vector(golden_1['reviews']))\n",
    "# y = np.array(golden_1['Judgement'])\n",
    "\n",
    "# X_train, X_test, y_train, y_test = train_test_split(x, y, test_size=0.05, random_state=0)\n",
    "# X_train = np.array(get_vector(X_train['reviews']))\n",
    "# X_test = np.array(get_vector(X_test['reviews']))\n",
    "X = pd.concat([X_train_augmented, X_test])\n",
    "X = np.array(get_vector(X['reviews']))\n",
    "X_train = X[:X_train_augmented.shape[0]]\n",
    "X_test = X[-X_test.shape[0]:]\n",
    "learner = GaussianNB()\n",
    "learner = learner.fit(X_train, y_train)\n",
    "\n",
    "start_time = datetime.now()\n",
    "y_pred = learner.predict(X_test)\n",
    "acc =  (y_test[\"Judgement\"] == y_pred).sum()/X_test.shape[0]\n",
    "\n",
    "print(\"Number of mislabeled points out of a total %d points : %d, accuracy = %f\"% (X_test.shape[0], (y_test[\"Judgement\"]!= y_pred).sum(),acc))\n",
    "print(classification_report(y_test[\"Judgement\"], y_pred))\n",
    "print(f\"Processing Time: {(datetime.now() - start_time).total_seconds()}\")"
   ]
  },
  {
   "cell_type": "markdown",
   "metadata": {},
   "source": [
    "### Task P2"
   ]
  },
  {
   "cell_type": "code",
   "execution_count": 50,
   "metadata": {
    "ExecuteTime": {
     "end_time": "2021-03-23T16:04:51.527055Z",
     "start_time": "2021-03-23T16:04:51.177752Z"
    }
   },
   "outputs": [],
   "source": [
    "# x = np.array(get_vector(golden_2['reviews']))\n",
    "# y = np.array(golden_2['Judgement'])\n",
    "\n",
    "# X_train, X_test, y_train, y_test = train_test_split(x, y, test_size=0.05, random_state=0)\n",
    "# learner = GaussianNB()\n",
    "# learner = learner.fit(X_train, y_train)\n",
    "\n",
    "# start_time = datetime.now()\n",
    "# y_pred = learner.predict(X_test)\n",
    "# acc =  (y_test== y_pred).sum()/X_test.shape[0]\n",
    "\n",
    "# print(\"Number of mislabeled points out of a total %d points : %d, accuracy = %f\"% (X_test.shape[0], (y_test!= y_pred).sum(),acc))\n",
    "# print(classification_report(y_test, y_pred))\n",
    "# print(f\"Processing Time: {(datetime.now() - start_time).total_seconds()}\")"
   ]
  },
  {
   "cell_type": "markdown",
   "metadata": {},
   "source": [
    "## TF-IDF + Sklearn learners approach"
   ]
  },
  {
   "cell_type": "markdown",
   "metadata": {},
   "source": [
    "#### Before Augmentations"
   ]
  },
  {
   "cell_type": "code",
   "execution_count": 96,
   "metadata": {},
   "outputs": [],
   "source": [
    "train_X_original = pd.read_csv(\"../data/original_data_X_train.csv\")\n",
    "train_y_original = pd.read_csv(\"../data/original_data_y_train.csv\")\n",
    "augmented_data = pd.read_csv(\"../data/balanced_augmentation_dataset.csv\")\n",
    "X_test = pd.read_csv(\"../data/original_data_X_test.csv\")\n",
    "y_test = pd.read_csv(\"../data/original_data_y_test.csv\")\n",
    "\n",
    "augmented_data=augmented_data[[\"Reviews\", \"Useful?\"]]\n",
    "augmented_data.rename(columns={\"Reviews\":\"reviews\", \"Useful?\":\"Judgement\"}, inplace=True)\n",
    "X_train_augmented = pd.concat([train_X_original, augmented_data[[\"reviews\"]]], axis=0, ignore_index=True)\n",
    "y_train_augmented = pd.concat([train_y_original, augmented_data[[\"Judgement\"]]], axis=0, ignore_index=True)"
   ]
  },
  {
   "cell_type": "markdown",
   "metadata": {},
   "source": [
    "### Task P1"
   ]
  },
  {
   "cell_type": "code",
   "execution_count": 97,
   "metadata": {
    "ExecuteTime": {
     "end_time": "2021-03-23T16:04:56.898000Z",
     "start_time": "2021-03-23T16:04:55.453023Z"
    }
   },
   "outputs": [
    {
     "name": "stdout",
     "output_type": "stream",
     "text": [
      "Number of mislabeled points out of a total 200 points : 34, accuracy = 0.830000\n",
      "              precision    recall  f1-score   support\n",
      "\n",
      "           0       0.90      0.76      0.82       105\n",
      "           1       0.77      0.91      0.83        95\n",
      "\n",
      "    accuracy                           0.83       200\n",
      "   macro avg       0.84      0.83      0.83       200\n",
      "weighted avg       0.84      0.83      0.83       200\n",
      "\n",
      "Processing Time: 0.343426\n"
     ]
    }
   ],
   "source": [
    "vectorizer = TfidfVectorizer()\n",
    "\n",
    "X_train = vectorizer.fit_transform(train_X_original[\"reviews\"]).toarray()\n",
    "X_test = vectorizer.transform(X_test[\"reviews\"]).toarray()\n",
    "learner = SVC(gamma=2, C=1 ,random_state=0)\n",
    "learner = learner.fit(X_train, train_y_original[\"Judgement\"])\n",
    "\n",
    "start_time = datetime.now()\n",
    "y_pred = learner.predict(X_test)\n",
    "acc =  (y_test[\"Judgement\"]== y_pred).sum()/X_test.shape[0]\n",
    "\n",
    "print(\"Number of mislabeled points out of a total %d points : %d, accuracy = %f\"% (X_test.shape[0], (y_test[\"Judgement\"]!= y_pred).sum(),acc))\n",
    "print(classification_report(y_test[\"Judgement\"], y_pred))\n",
    "print(f\"Processing Time: {(datetime.now() - start_time).total_seconds()}\")"
   ]
  },
  {
   "cell_type": "markdown",
   "metadata": {},
   "source": [
    "#### After Augmentation"
   ]
  },
  {
   "cell_type": "code",
   "execution_count": 93,
   "metadata": {},
   "outputs": [],
   "source": [
    "train_X_original = pd.read_csv(\"../data/original_data_X_train.csv\")\n",
    "train_y_original = pd.read_csv(\"../data/original_data_y_train.csv\")\n",
    "augmented_data = pd.read_csv(\"../data/balanced_augmentation_dataset.csv\")\n",
    "X_test = pd.read_csv(\"../data/original_data_X_test.csv\")\n",
    "y_test = pd.read_csv(\"../data/original_data_y_test.csv\")\n",
    "\n",
    "augmented_data=augmented_data[[\"Reviews\", \"Useful?\"]]\n",
    "augmented_data.rename(columns={\"Reviews\":\"reviews\", \"Useful?\":\"Judgement\"}, inplace=True)\n",
    "X_train_augmented = pd.concat([train_X_original, augmented_data[[\"reviews\"]]], axis=0, ignore_index=True)\n",
    "y_train_augmented = pd.concat([train_y_original, augmented_data[[\"Judgement\"]]], axis=0, ignore_index=True)"
   ]
  },
  {
   "cell_type": "code",
   "execution_count": 95,
   "metadata": {},
   "outputs": [
    {
     "name": "stdout",
     "output_type": "stream",
     "text": [
      "Number of mislabeled points out of a total 200 points : 38, accuracy = 0.810000\n",
      "              precision    recall  f1-score   support\n",
      "\n",
      "           0       0.78      0.89      0.83       105\n",
      "           1       0.85      0.73      0.78        95\n",
      "\n",
      "    accuracy                           0.81       200\n",
      "   macro avg       0.82      0.81      0.81       200\n",
      "weighted avg       0.81      0.81      0.81       200\n",
      "\n",
      "Processing Time: 2.360059\n"
     ]
    }
   ],
   "source": [
    "vectorizer = TfidfVectorizer()\n",
    "\n",
    "X_train = vectorizer.fit_transform(X_train_augmented[\"reviews\"]).toarray()\n",
    "X_test = vectorizer.transform(X_test[\"reviews\"]).toarray()\n",
    "learner = SVC(gamma=2, C=1, random_state=0)\n",
    "learner = learner.fit(X_train, y_train_augmented[\"Judgement\"])\n",
    "\n",
    "start_time = datetime.now()\n",
    "y_pred = learner.predict(X_test)\n",
    "acc =  (y_test[\"Judgement\"]== y_pred).sum()/X_test.shape[0]\n",
    "\n",
    "print(\"Number of mislabeled points out of a total %d points : %d, accuracy = %f\"% (X_test.shape[0], (y_test[\"Judgement\"]!= y_pred).sum(),acc))\n",
    "print(classification_report(y_test[\"Judgement\"], y_pred))\n",
    "print(f\"Processing Time: {(datetime.now() - start_time).total_seconds()}\")"
   ]
  },
  {
   "cell_type": "markdown",
   "metadata": {},
   "source": [
    "### Task P2"
   ]
  },
  {
   "cell_type": "code",
   "execution_count": 9,
   "metadata": {
    "ExecuteTime": {
     "end_time": "2021-03-23T16:05:00.877457Z",
     "start_time": "2021-03-23T16:04:59.068456Z"
    }
   },
   "outputs": [
    {
     "name": "stdout",
     "output_type": "stream",
     "text": [
      "Number of mislabeled points out of a total 249 points : 59, accuracy = 0.763052\n",
      "              precision    recall  f1-score   support\n",
      "\n",
      "           0       0.73      0.92      0.82       142\n",
      "           1       0.83      0.56      0.67       107\n",
      "\n",
      "    accuracy                           0.76       249\n",
      "   macro avg       0.78      0.74      0.74       249\n",
      "weighted avg       0.78      0.76      0.75       249\n",
      "\n",
      "Processing Time: 0.453092\n"
     ]
    }
   ],
   "source": [
    "vectorizer = TfidfVectorizer()\n",
    "corpus = golden_2['reviews']\n",
    "x = vectorizer.fit_transform(corpus).toarray()\n",
    "y = np.array(golden_2['Judgement'])\n",
    "X_train, X_test, y_train, y_test = train_test_split(x, y, test_size=0.2, random_state=0)\n",
    "learner = SVC(gamma=2, C=1)\n",
    "learner = learner.fit(X_train, y_train)\n",
    "\n",
    "start_time = datetime.now()\n",
    "y_pred = learner.predict(X_test)\n",
    "acc =  (y_test== y_pred).sum()/X_test.shape[0]\n",
    "\n",
    "print(\"Number of mislabeled points out of a total %d points : %d, accuracy = %f\"% (X_test.shape[0], (y_test!= y_pred).sum(),acc))\n",
    "print(classification_report(y_test, y_pred))\n",
    "print(f\"Processing Time: {(datetime.now() - start_time).total_seconds()}\")"
   ]
  },
  {
   "cell_type": "code",
   "execution_count": null,
   "metadata": {},
   "outputs": [],
   "source": []
  }
 ],
 "metadata": {
  "kernelspec": {
   "display_name": "Python 3 (ipykernel)",
   "language": "python",
   "name": "python3"
  },
  "language_info": {
   "codemirror_mode": {
    "name": "ipython",
    "version": 3
   },
   "file_extension": ".py",
   "mimetype": "text/x-python",
   "name": "python",
   "nbconvert_exporter": "python",
   "pygments_lexer": "ipython3",
   "version": "3.10.4"
  },
  "toc": {
   "base_numbering": 1,
   "nav_menu": {},
   "number_sections": true,
   "sideBar": true,
   "skip_h1_title": false,
   "title_cell": "Table of Contents",
   "title_sidebar": "Contents",
   "toc_cell": false,
   "toc_position": {},
   "toc_section_display": true,
   "toc_window_display": true
  }
 },
 "nbformat": 4,
 "nbformat_minor": 2
}
