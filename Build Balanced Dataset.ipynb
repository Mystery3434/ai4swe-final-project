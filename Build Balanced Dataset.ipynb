{
 "cells": [
  {
   "cell_type": "code",
   "execution_count": 55,
   "id": "90218f0e",
   "metadata": {},
   "outputs": [],
   "source": [
    "import pandas as pd"
   ]
  },
  {
   "cell_type": "code",
   "execution_count": 56,
   "id": "bb91b29f",
   "metadata": {},
   "outputs": [],
   "source": [
    "labeled_misc = pd.read_csv(\"Manual_labeling_file_filled.csv\")"
   ]
  },
  {
   "cell_type": "code",
   "execution_count": 57,
   "id": "c43f6aa7",
   "metadata": {
    "scrolled": true
   },
   "outputs": [
    {
     "data": {
      "text/html": [
       "<div>\n",
       "<style scoped>\n",
       "    .dataframe tbody tr th:only-of-type {\n",
       "        vertical-align: middle;\n",
       "    }\n",
       "\n",
       "    .dataframe tbody tr th {\n",
       "        vertical-align: top;\n",
       "    }\n",
       "\n",
       "    .dataframe thead th {\n",
       "        text-align: right;\n",
       "    }\n",
       "</style>\n",
       "<table border=\"1\" class=\"dataframe\">\n",
       "  <thead>\n",
       "    <tr style=\"text-align: right;\">\n",
       "      <th></th>\n",
       "      <th>Reviews</th>\n",
       "      <th>Labeler</th>\n",
       "      <th>Useful?</th>\n",
       "      <th>Comments</th>\n",
       "    </tr>\n",
       "  </thead>\n",
       "  <tbody>\n",
       "    <tr>\n",
       "      <th>0</th>\n",
       "      <td>I give it 5 stars  it almost had everything I ...</td>\n",
       "      <td>Romario</td>\n",
       "      <td>1</td>\n",
       "      <td>NaN</td>\n",
       "    </tr>\n",
       "    <tr>\n",
       "      <th>1</th>\n",
       "      <td>I like this app and I segues to make stronger ...</td>\n",
       "      <td>Romario</td>\n",
       "      <td>1</td>\n",
       "      <td>NaN</td>\n",
       "    </tr>\n",
       "    <tr>\n",
       "      <th>2</th>\n",
       "      <td>So far does everything I want it to.     \\n</td>\n",
       "      <td>Romario</td>\n",
       "      <td>0</td>\n",
       "      <td>NaN</td>\n",
       "    </tr>\n",
       "    <tr>\n",
       "      <th>3</th>\n",
       "      <td>This app provides a lot of value for my phone ...</td>\n",
       "      <td>Romario</td>\n",
       "      <td>0</td>\n",
       "      <td>NaN</td>\n",
       "    </tr>\n",
       "    <tr>\n",
       "      <th>4</th>\n",
       "      <td>This is a wonderful app for figuring out what ...</td>\n",
       "      <td>Romario</td>\n",
       "      <td>0</td>\n",
       "      <td>NaN</td>\n",
       "    </tr>\n",
       "    <tr>\n",
       "      <th>...</th>\n",
       "      <td>...</td>\n",
       "      <td>...</td>\n",
       "      <td>...</td>\n",
       "      <td>...</td>\n",
       "    </tr>\n",
       "    <tr>\n",
       "      <th>995</th>\n",
       "      <td>Thanks Great app  does he simple things well. ...</td>\n",
       "      <td>Joanna</td>\n",
       "      <td>1</td>\n",
       "      <td>NaN</td>\n",
       "    </tr>\n",
       "    <tr>\n",
       "      <th>996</th>\n",
       "      <td>You said you fixed the tracing of comet ISON I...</td>\n",
       "      <td>Joanna</td>\n",
       "      <td>1</td>\n",
       "      <td>NaN</td>\n",
       "    </tr>\n",
       "    <tr>\n",
       "      <th>997</th>\n",
       "      <td>This App is by far my Go to App for doing art....</td>\n",
       "      <td>Joanna</td>\n",
       "      <td>1</td>\n",
       "      <td>NaN</td>\n",
       "    </tr>\n",
       "    <tr>\n",
       "      <th>998</th>\n",
       "      <td>Happy to see how fast the crashing issue was f...</td>\n",
       "      <td>Joanna</td>\n",
       "      <td>0</td>\n",
       "      <td>NaN</td>\n",
       "    </tr>\n",
       "    <tr>\n",
       "      <th>999</th>\n",
       "      <td>I've been a user for about 3 years now After n...</td>\n",
       "      <td>Joanna</td>\n",
       "      <td>0</td>\n",
       "      <td>NaN</td>\n",
       "    </tr>\n",
       "  </tbody>\n",
       "</table>\n",
       "<p>1000 rows × 4 columns</p>\n",
       "</div>"
      ],
      "text/plain": [
       "                                               Reviews  Labeler Useful?  \\\n",
       "0    I give it 5 stars  it almost had everything I ...  Romario       1   \n",
       "1    I like this app and I segues to make stronger ...  Romario       1   \n",
       "2          So far does everything I want it to.     \\n  Romario       0   \n",
       "3    This app provides a lot of value for my phone ...  Romario       0   \n",
       "4    This is a wonderful app for figuring out what ...  Romario       0   \n",
       "..                                                 ...      ...     ...   \n",
       "995  Thanks Great app  does he simple things well. ...   Joanna       1   \n",
       "996  You said you fixed the tracing of comet ISON I...   Joanna       1   \n",
       "997  This App is by far my Go to App for doing art....   Joanna       1   \n",
       "998  Happy to see how fast the crashing issue was f...   Joanna       0   \n",
       "999  I've been a user for about 3 years now After n...   Joanna       0   \n",
       "\n",
       "    Comments  \n",
       "0        NaN  \n",
       "1        NaN  \n",
       "2        NaN  \n",
       "3        NaN  \n",
       "4        NaN  \n",
       "..       ...  \n",
       "995      NaN  \n",
       "996      NaN  \n",
       "997      NaN  \n",
       "998      NaN  \n",
       "999      NaN  \n",
       "\n",
       "[1000 rows x 4 columns]"
      ]
     },
     "execution_count": 57,
     "metadata": {},
     "output_type": "execute_result"
    }
   ],
   "source": [
    "labeled_misc"
   ]
  },
  {
   "cell_type": "markdown",
   "id": "717f3fff",
   "metadata": {},
   "source": [
    "# Clean up ones we did not label"
   ]
  },
  {
   "cell_type": "code",
   "execution_count": 58,
   "id": "f4838666",
   "metadata": {},
   "outputs": [],
   "source": [
    "labeled_misc = labeled_misc[labeled_misc[\"Useful?\"].isin([\"0\",\"1\"])]"
   ]
  },
  {
   "cell_type": "code",
   "execution_count": 59,
   "id": "2c43cc1a",
   "metadata": {},
   "outputs": [
    {
     "name": "stderr",
     "output_type": "stream",
     "text": [
      "C:\\Users\\Romario\\AppData\\Local\\Temp\\ipykernel_16984\\2301899026.py:1: SettingWithCopyWarning: \n",
      "A value is trying to be set on a copy of a slice from a DataFrame.\n",
      "Try using .loc[row_indexer,col_indexer] = value instead\n",
      "\n",
      "See the caveats in the documentation: https://pandas.pydata.org/pandas-docs/stable/user_guide/indexing.html#returning-a-view-versus-a-copy\n",
      "  labeled_misc[\"Useful?\"] = labeled_misc[\"Useful?\"].astype(int)\n"
     ]
    }
   ],
   "source": [
    "labeled_misc[\"Useful?\"] = labeled_misc[\"Useful?\"].astype(int)"
   ]
  },
  {
   "cell_type": "code",
   "execution_count": 60,
   "id": "b4c4c0e6",
   "metadata": {},
   "outputs": [
    {
     "data": {
      "text/plain": [
       "0    866\n",
       "1    126\n",
       "Name: Useful?, dtype: int64"
      ]
     },
     "execution_count": 60,
     "metadata": {},
     "output_type": "execute_result"
    }
   ],
   "source": [
    "labeled_misc[\"Useful?\"].value_counts()"
   ]
  },
  {
   "cell_type": "code",
   "execution_count": 61,
   "id": "804e79b0",
   "metadata": {},
   "outputs": [
    {
     "name": "stdout",
     "output_type": "stream",
     "text": [
      "Additional Required positive examples to balance dataset:  740\n"
     ]
    }
   ],
   "source": [
    "additional = labeled_misc[labeled_misc[\"Useful?\"]==0].shape[0] - labeled_misc[labeled_misc[\"Useful?\"]==1].shape[0]\n",
    "print(\"Additional Required positive examples to balance dataset: \", additional)"
   ]
  },
  {
   "cell_type": "code",
   "execution_count": 62,
   "id": "9424f2b7",
   "metadata": {},
   "outputs": [
    {
     "name": "stderr",
     "output_type": "stream",
     "text": [
      "C:\\Users\\Romario\\AppData\\Local\\Temp\\ipykernel_16984\\4091443445.py:1: SettingWithCopyWarning: \n",
      "A value is trying to be set on a copy of a slice from a DataFrame.\n",
      "Try using .loc[row_indexer,col_indexer] = value instead\n",
      "\n",
      "See the caveats in the documentation: https://pandas.pydata.org/pandas-docs/stable/user_guide/indexing.html#returning-a-view-versus-a-copy\n",
      "  labeled_misc[\"Original_type\"] = \"mis\"\n"
     ]
    }
   ],
   "source": [
    "labeled_misc[\"Original_type\"] = \"mis\""
   ]
  },
  {
   "cell_type": "markdown",
   "id": "23d35aaf",
   "metadata": {},
   "source": [
    "# Balance with useful reviews from the additional dataset:"
   ]
  },
  {
   "cell_type": "code",
   "execution_count": 63,
   "id": "7fc25ee1",
   "metadata": {},
   "outputs": [],
   "source": [
    "emse_df = pd.read_csv(\"emse19/emse19/emse19/Training Dataset/review_and_label.csv\")"
   ]
  },
  {
   "cell_type": "code",
   "execution_count": 64,
   "id": "efad8870",
   "metadata": {},
   "outputs": [],
   "source": [
    "emse_df[\"misc\"] = emse_df[\"Label\"].apply(lambda x: \"mis\" in x.lower())"
   ]
  },
  {
   "cell_type": "code",
   "execution_count": 65,
   "id": "0f683e46",
   "metadata": {},
   "outputs": [],
   "source": [
    "emse_df = emse_df[~emse_df[\"misc\"]]"
   ]
  },
  {
   "cell_type": "code",
   "execution_count": 66,
   "id": "e502a6d5",
   "metadata": {},
   "outputs": [],
   "source": [
    "emse_df[\"Useful?\"] = 1"
   ]
  },
  {
   "cell_type": "code",
   "execution_count": 67,
   "id": "37bd71f0",
   "metadata": {},
   "outputs": [],
   "source": [
    "emse_df = emse_df.sample(additional, random_state=0)"
   ]
  },
  {
   "cell_type": "code",
   "execution_count": 68,
   "id": "4a78d19c",
   "metadata": {},
   "outputs": [],
   "source": [
    "emse_df.rename(columns={\"Label\":\"Original_type\"}, inplace=True)"
   ]
  },
  {
   "cell_type": "code",
   "execution_count": 69,
   "id": "6506f232",
   "metadata": {},
   "outputs": [],
   "source": [
    "emse_df[\"Original_type\"] = emse_df[\"Original_type\"].str.strip()"
   ]
  },
  {
   "cell_type": "code",
   "execution_count": 70,
   "id": "6bb48cfd",
   "metadata": {},
   "outputs": [],
   "source": [
    "emse_df = emse_df[[\"Reviews\", \"Original_type\", \"Useful?\"]]"
   ]
  },
  {
   "cell_type": "code",
   "execution_count": 71,
   "id": "67155d92",
   "metadata": {},
   "outputs": [],
   "source": [
    "final_dataset = pd.concat([labeled_misc, emse_df],  ignore_index=True)"
   ]
  },
  {
   "cell_type": "code",
   "execution_count": 72,
   "id": "4e3c2c3d",
   "metadata": {},
   "outputs": [
    {
     "data": {
      "text/plain": [
       "1    866\n",
       "0    866\n",
       "Name: Useful?, dtype: int64"
      ]
     },
     "execution_count": 72,
     "metadata": {},
     "output_type": "execute_result"
    }
   ],
   "source": [
    "final_dataset[\"Useful?\"].value_counts()"
   ]
  },
  {
   "cell_type": "code",
   "execution_count": 73,
   "id": "d5a684e9",
   "metadata": {},
   "outputs": [],
   "source": [
    "final_dataset.to_csv(\"balanced_augmentation_dataset.csv\", index=None)"
   ]
  },
  {
   "cell_type": "code",
   "execution_count": null,
   "id": "7bb57c6e",
   "metadata": {},
   "outputs": [],
   "source": []
  }
 ],
 "metadata": {
  "kernelspec": {
   "display_name": "Python 3 (ipykernel)",
   "language": "python",
   "name": "python3"
  },
  "language_info": {
   "codemirror_mode": {
    "name": "ipython",
    "version": 3
   },
   "file_extension": ".py",
   "mimetype": "text/x-python",
   "name": "python",
   "nbconvert_exporter": "python",
   "pygments_lexer": "ipython3",
   "version": "3.10.4"
  }
 },
 "nbformat": 4,
 "nbformat_minor": 5
}
