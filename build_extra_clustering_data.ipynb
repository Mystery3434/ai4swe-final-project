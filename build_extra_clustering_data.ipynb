{
 "cells": [
  {
   "cell_type": "code",
   "execution_count": 1,
   "id": "35c4adb7",
   "metadata": {},
   "outputs": [],
   "source": [
    "import pandas as pd"
   ]
  },
  {
   "cell_type": "code",
   "execution_count": 3,
   "id": "7a3fa2e9",
   "metadata": {},
   "outputs": [],
   "source": [
    "apple_directory = \"./emse19/emse19/emse19/Test Dataset/App Store/\"\n",
    "android_directory = \"./emse19/emse19/emse19/Test Dataset/Google Play/\"\n"
   ]
  },
  {
   "cell_type": "code",
   "execution_count": 6,
   "id": "9fe51bf4",
   "metadata": {},
   "outputs": [],
   "source": [
    "with open(apple_directory+\"Reviews.txt\", \"r\", encoding=\"utf-8\") as f:\n",
    "    apple_reviews = f.read().splitlines()\n",
    "with open(apple_directory+\"Labels for Reviews.txt\", \"r\", encoding=\"utf-8\") as f:\n",
    "    apple_review_labels = f.read().splitlines()\n",
    "with open(android_directory+\"Reviews.txt\", \"r\", encoding=\"utf-8\") as f:\n",
    "    android_reviews = f.read().splitlines()\n",
    "with open(android_directory+\"Labels for Reviews.txt\", \"r\", encoding=\"utf-8\") as f:\n",
    "    android_review_labels = f.read().splitlines()\n"
   ]
  },
  {
   "cell_type": "code",
   "execution_count": 10,
   "id": "d716a8e5",
   "metadata": {},
   "outputs": [
    {
     "data": {
      "text/plain": [
       "(600, 600, 500, 500)"
      ]
     },
     "execution_count": 10,
     "metadata": {},
     "output_type": "execute_result"
    }
   ],
   "source": [
    "len(apple_reviews), len(apple_review_labels), len(android_reviews), len(android_review_labels)\n",
    "#pd.DataFrame(apple_reviews, apple_review_labels)"
   ]
  },
  {
   "cell_type": "code",
   "execution_count": 18,
   "id": "0aabe3a3",
   "metadata": {},
   "outputs": [],
   "source": [
    "combined_data = pd.DataFrame(list(zip(apple_reviews + android_reviews, apple_review_labels + android_review_labels)), columns=[\"reviews\", \"label\"])"
   ]
  },
  {
   "cell_type": "code",
   "execution_count": 20,
   "id": "24abacf3",
   "metadata": {},
   "outputs": [],
   "source": [
    "combined_data[\"Judgement\"] = combined_data[\"label\"].apply(lambda x: 1 if \"mis\" not in x.lower() else 0)"
   ]
  },
  {
   "cell_type": "code",
   "execution_count": 23,
   "id": "b3ea2f0f",
   "metadata": {},
   "outputs": [],
   "source": [
    "combined_data.to_csv(\"data/emse_test_data_positive.csv\", index=None)"
   ]
  },
  {
   "cell_type": "code",
   "execution_count": null,
   "id": "8d2ce206",
   "metadata": {},
   "outputs": [],
   "source": []
  }
 ],
 "metadata": {
  "kernelspec": {
   "display_name": "Python 3 (ipykernel)",
   "language": "python",
   "name": "python3"
  },
  "language_info": {
   "codemirror_mode": {
    "name": "ipython",
    "version": 3
   },
   "file_extension": ".py",
   "mimetype": "text/x-python",
   "name": "python",
   "nbconvert_exporter": "python",
   "pygments_lexer": "ipython3",
   "version": "3.10.4"
  }
 },
 "nbformat": 4,
 "nbformat_minor": 5
}
